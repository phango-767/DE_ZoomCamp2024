{
 "cells": [
  {
   "cell_type": "code",
   "execution_count": 1,
   "id": "c29ee10b-4d8c-4c80-93c1-1d1381201045",
   "metadata": {},
   "outputs": [
    {
     "name": "stdout",
     "output_type": "stream",
     "text": [
      "Hello, world in codespaces\n"
     ]
    }
   ],
   "source": [
    "print('Hello, world in codespaces')"
   ]
  },
  {
   "cell_type": "code",
   "execution_count": null,
   "id": "5fb7baf2-e49c-4abd-a862-04cf03f73d92",
   "metadata": {},
   "outputs": [],
   "source": []
  }
 ],
 "metadata": {
  "kernelspec": {
   "display_name": "Python 3 (ipykernel)",
   "language": "python",
   "name": "python3"
  },
  "language_info": {
   "codemirror_mode": {
    "name": "ipython",
    "version": 3
   },
   "file_extension": ".py",
   "mimetype": "text/x-python",
   "name": "python",
   "nbconvert_exporter": "python",
   "pygments_lexer": "ipython3",
   "version": "3.10.13"
  }
 },
 "nbformat": 4,
 "nbformat_minor": 5
}
